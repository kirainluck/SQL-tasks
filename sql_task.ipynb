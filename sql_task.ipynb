{
 "cells": [
  {
   "cell_type": "code",
   "execution_count": 168,
   "metadata": {},
   "outputs": [],
   "source": [
    "# Install a pip package in the current Jupyter kernel\n",
    "#import sys\n",
    "#!{sys.executable} -m pip install psycopg2"
   ]
  },
  {
   "cell_type": "code",
   "execution_count": 169,
   "metadata": {},
   "outputs": [],
   "source": [
    "from psycopg2 import connect\n",
    "import pandas as pd"
   ]
  },
  {
   "cell_type": "code",
   "execution_count": 170,
   "metadata": {},
   "outputs": [],
   "source": [
    "conn = connect(host='localhost', dbname='StoragesDB')"
   ]
  },
  {
   "cell_type": "code",
   "execution_count": 171,
   "metadata": {},
   "outputs": [
    {
     "data": {
      "text/plain": [
       "<connection object at 0x0000021E8275A598; dsn: 'host=localhost dbname=StoragesDB', closed: 0>"
      ]
     },
     "execution_count": 171,
     "metadata": {},
     "output_type": "execute_result"
    }
   ],
   "source": [
    "conn"
   ]
  },
  {
   "cell_type": "code",
   "execution_count": 172,
   "metadata": {},
   "outputs": [],
   "source": [
    "D_START = '01-01-2001'\n",
    "D_END = '09-03-2020'\n",
    "query = f\"\"\"\n",
    "    SELECT recept.ddate, sum(recgoods.volume * recgoods.price) AS sm,\n",
    "    goods.g_group FROM goods\n",
    "    JOIN recgoods ON (recgoods.goods = goods.id)\n",
    "    JOIN recept ON (recept.id = recgoods.id)\n",
    "    WHERE\n",
    "    (recept.ddate >= '{D_START}') AND (recept.ddate <= '{D_END}')\n",
    "    GROUP BY\n",
    "    recept.ddate, goods.g_group\n",
    "    ORDER BY goods.g_group, recept.ddate;\n",
    "\"\"\""
   ]
  },
  {
   "cell_type": "code",
   "execution_count": 173,
   "metadata": {},
   "outputs": [
    {
     "data": {
      "text/plain": [
       "\"\\n    SELECT recept.ddate, sum(recgoods.volume * recgoods.price) AS sm,\\n    goods.g_group FROM goods\\n    JOIN recgoods ON (recgoods.goods = goods.id)\\n    JOIN recept ON (recept.id = recgoods.id)\\n    WHERE\\n    (recept.ddate >= '01-01-2001') AND (recept.ddate <= '09-03-2020')\\n    GROUP BY\\n    recept.ddate, goods.g_group\\n    ORDER BY goods.g_group, recept.ddate;\\n\""
      ]
     },
     "execution_count": 173,
     "metadata": {},
     "output_type": "execute_result"
    }
   ],
   "source": [
    "query"
   ]
  },
  {
   "cell_type": "code",
   "execution_count": 174,
   "metadata": {},
   "outputs": [
    {
     "name": "stdout",
     "output_type": "stream",
     "text": [
      "(datetime.date(2020, 3, 7), 125000.0, 1)\n",
      "(datetime.date(2020, 3, 8), 30000.0, 1)\n",
      "(datetime.date(2020, 3, 9), 50000.0, 1)\n",
      "(datetime.date(2020, 3, 7), 52500.0, 2)\n",
      "(datetime.date(2020, 3, 8), 50000.0, 3)\n",
      "(datetime.date(2020, 3, 9), 10000.0, 3)\n"
     ]
    }
   ],
   "source": [
    "with conn.cursor() as cur:\n",
    "    cur.execute(query)\n",
    "    for row in cur:\n",
    "        print(row)"
   ]
  },
  {
   "cell_type": "code",
   "execution_count": 175,
   "metadata": {},
   "outputs": [],
   "source": [
    "ALPHA = 0.9\n",
    "result_data = pd.DataFrame(columns=['goods_group','date', 'predict_val', 'error'])"
   ]
  },
  {
   "cell_type": "code",
   "execution_count": 176,
   "metadata": {},
   "outputs": [],
   "source": [
    "with conn.cursor() as cur:\n",
    "    cur.execute(query)\n",
    "    \n",
    "    def compute_predict(cur, prev_group, prev_predict, pdframe):\n",
    "        row = cur.fetchone()\n",
    "        if row is None:\n",
    "            return pdframe\n",
    "        \n",
    "        dt, sm, group = row\n",
    "        if (prev_group is None) or (prev_group != group):\n",
    "            predict_val = ALPHA*sm\n",
    "        else:\n",
    "            predict_val = ALPHA*sm+(1-ALPHA)*prev_predict\n",
    "            \n",
    "        pdframe = pdframe.append({'goods_group':group, 'date':dt,'predict_val':predict_val,\n",
    "                        'error':abs(sm-predict_val)}, ignore_index=True)\n",
    "\n",
    "        pdframe = compute_predict(cur, group, predict_val, pdframe)\n",
    "        \n",
    "        return pdframe\n",
    "        \n",
    "    result_data = compute_predict(cur, None, None, result_data) \n",
    "    \n",
    "conn.close()"
   ]
  },
  {
   "cell_type": "code",
   "execution_count": 177,
   "metadata": {},
   "outputs": [
    {
     "data": {
      "text/html": [
       "<div>\n",
       "<style scoped>\n",
       "    .dataframe tbody tr th:only-of-type {\n",
       "        vertical-align: middle;\n",
       "    }\n",
       "\n",
       "    .dataframe tbody tr th {\n",
       "        vertical-align: top;\n",
       "    }\n",
       "\n",
       "    .dataframe thead th {\n",
       "        text-align: right;\n",
       "    }\n",
       "</style>\n",
       "<table border=\"1\" class=\"dataframe\">\n",
       "  <thead>\n",
       "    <tr style=\"text-align: right;\">\n",
       "      <th></th>\n",
       "      <th>goods_group</th>\n",
       "      <th>date</th>\n",
       "      <th>predict_val</th>\n",
       "      <th>error</th>\n",
       "    </tr>\n",
       "  </thead>\n",
       "  <tbody>\n",
       "    <tr>\n",
       "      <th>0</th>\n",
       "      <td>1</td>\n",
       "      <td>2020-03-07</td>\n",
       "      <td>112500.0</td>\n",
       "      <td>12500.0</td>\n",
       "    </tr>\n",
       "    <tr>\n",
       "      <th>1</th>\n",
       "      <td>1</td>\n",
       "      <td>2020-03-08</td>\n",
       "      <td>38250.0</td>\n",
       "      <td>8250.0</td>\n",
       "    </tr>\n",
       "    <tr>\n",
       "      <th>2</th>\n",
       "      <td>1</td>\n",
       "      <td>2020-03-09</td>\n",
       "      <td>48825.0</td>\n",
       "      <td>1175.0</td>\n",
       "    </tr>\n",
       "    <tr>\n",
       "      <th>3</th>\n",
       "      <td>2</td>\n",
       "      <td>2020-03-07</td>\n",
       "      <td>47250.0</td>\n",
       "      <td>5250.0</td>\n",
       "    </tr>\n",
       "    <tr>\n",
       "      <th>4</th>\n",
       "      <td>3</td>\n",
       "      <td>2020-03-08</td>\n",
       "      <td>45000.0</td>\n",
       "      <td>5000.0</td>\n",
       "    </tr>\n",
       "    <tr>\n",
       "      <th>5</th>\n",
       "      <td>3</td>\n",
       "      <td>2020-03-09</td>\n",
       "      <td>13500.0</td>\n",
       "      <td>3500.0</td>\n",
       "    </tr>\n",
       "  </tbody>\n",
       "</table>\n",
       "</div>"
      ],
      "text/plain": [
       "  goods_group        date  predict_val    error\n",
       "0           1  2020-03-07     112500.0  12500.0\n",
       "1           1  2020-03-08      38250.0   8250.0\n",
       "2           1  2020-03-09      48825.0   1175.0\n",
       "3           2  2020-03-07      47250.0   5250.0\n",
       "4           3  2020-03-08      45000.0   5000.0\n",
       "5           3  2020-03-09      13500.0   3500.0"
      ]
     },
     "execution_count": 177,
     "metadata": {},
     "output_type": "execute_result"
    }
   ],
   "source": [
    "result_data"
   ]
  },
  {
   "cell_type": "code",
   "execution_count": null,
   "metadata": {},
   "outputs": [],
   "source": []
  },
  {
   "cell_type": "code",
   "execution_count": null,
   "metadata": {},
   "outputs": [],
   "source": []
  }
 ],
 "metadata": {
  "kernelspec": {
   "display_name": "Python 3",
   "language": "python",
   "name": "python3"
  },
  "language_info": {
   "codemirror_mode": {
    "name": "ipython",
    "version": 3
   },
   "file_extension": ".py",
   "mimetype": "text/x-python",
   "name": "python",
   "nbconvert_exporter": "python",
   "pygments_lexer": "ipython3",
   "version": "3.7.3"
  }
 },
 "nbformat": 4,
 "nbformat_minor": 2
}
